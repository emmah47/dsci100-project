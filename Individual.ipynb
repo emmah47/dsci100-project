{
 "cells": [
  {
   "cell_type": "markdown",
   "id": "469bb69b-510b-402a-991e-528d00b180d7",
   "metadata": {},
   "source": [
    "<h1>Data Science Project: Planning Stage (Individual)</h1>"
   ]
  },
  {
   "cell_type": "code",
   "execution_count": 18,
   "id": "5bf4273a-052f-4483-8ae0-152223b2fb2c",
   "metadata": {},
   "outputs": [],
   "source": [
    "library(tidyverse)\n",
    "\n",
    "players_data <- read_csv(\"https://raw.githubusercontent.com/emmah47/dsci100-project/refs/heads/main/players.csv\", show_col_types = FALSE)"
   ]
  },
  {
   "cell_type": "markdown",
   "id": "6fd3947d-f5ca-427c-ab7a-02dfae5bcb0b",
   "metadata": {},
   "source": [
    "<br><br>"
   ]
  },
  {
   "cell_type": "markdown",
   "id": "254c850c-27ad-4e2c-ac6d-fcd8bee51e05",
   "metadata": {},
   "source": [
    "<h2>1. Data Description</h2>"
   ]
  },
  {
   "cell_type": "code",
   "execution_count": 19,
   "id": "59128a7d-96d7-4b3c-8e22-7c6e0a3235e0",
   "metadata": {},
   "outputs": [
    {
     "data": {
      "text/html": [
       "<table class=\"dataframe\">\n",
       "<caption>A tibble: 6 × 7</caption>\n",
       "<thead>\n",
       "\t<tr><th scope=col>experience</th><th scope=col>subscribe</th><th scope=col>hashedEmail</th><th scope=col>played_hours</th><th scope=col>name</th><th scope=col>gender</th><th scope=col>Age</th></tr>\n",
       "\t<tr><th scope=col>&lt;chr&gt;</th><th scope=col>&lt;lgl&gt;</th><th scope=col>&lt;chr&gt;</th><th scope=col>&lt;dbl&gt;</th><th scope=col>&lt;chr&gt;</th><th scope=col>&lt;chr&gt;</th><th scope=col>&lt;dbl&gt;</th></tr>\n",
       "</thead>\n",
       "<tbody>\n",
       "\t<tr><td>Pro    </td><td> TRUE</td><td>f6daba428a5e19a3d47574858c13550499be23603422e6a0ee9728f8b53e192d</td><td>30.3</td><td>Morgan   </td><td>Male  </td><td> 9</td></tr>\n",
       "\t<tr><td>Veteran</td><td> TRUE</td><td>f3c813577c458ba0dfef80996f8f32c93b6e8af1fa939732842f2312358a88e9</td><td> 3.8</td><td>Christian</td><td>Male  </td><td>17</td></tr>\n",
       "\t<tr><td>Veteran</td><td>FALSE</td><td>b674dd7ee0d24096d1c019615ce4d12b20fcbff12d79d3c5a9d2118eb7ccbb28</td><td> 0.0</td><td>Blake    </td><td>Male  </td><td>17</td></tr>\n",
       "\t<tr><td>Amateur</td><td> TRUE</td><td>23fe711e0e3b77f1da7aa221ab1192afe21648d47d2b4fa7a5a659ff443a0eb5</td><td> 0.7</td><td>Flora    </td><td>Female</td><td>21</td></tr>\n",
       "\t<tr><td>Regular</td><td> TRUE</td><td>7dc01f10bf20671ecfccdac23812b1b415acd42c2147cb0af4d48fcce2420f3e</td><td> 0.1</td><td>Kylie    </td><td>Male  </td><td>21</td></tr>\n",
       "\t<tr><td>Amateur</td><td> TRUE</td><td>f58aad5996a435f16b0284a3b267f973f9af99e7a89bee0430055a44fa92f977</td><td> 0.0</td><td>Adrian   </td><td>Female</td><td>17</td></tr>\n",
       "</tbody>\n",
       "</table>\n"
      ],
      "text/latex": [
       "A tibble: 6 × 7\n",
       "\\begin{tabular}{lllllll}\n",
       " experience & subscribe & hashedEmail & played\\_hours & name & gender & Age\\\\\n",
       " <chr> & <lgl> & <chr> & <dbl> & <chr> & <chr> & <dbl>\\\\\n",
       "\\hline\n",
       "\t Pro     &  TRUE & f6daba428a5e19a3d47574858c13550499be23603422e6a0ee9728f8b53e192d & 30.3 & Morgan    & Male   &  9\\\\\n",
       "\t Veteran &  TRUE & f3c813577c458ba0dfef80996f8f32c93b6e8af1fa939732842f2312358a88e9 &  3.8 & Christian & Male   & 17\\\\\n",
       "\t Veteran & FALSE & b674dd7ee0d24096d1c019615ce4d12b20fcbff12d79d3c5a9d2118eb7ccbb28 &  0.0 & Blake     & Male   & 17\\\\\n",
       "\t Amateur &  TRUE & 23fe711e0e3b77f1da7aa221ab1192afe21648d47d2b4fa7a5a659ff443a0eb5 &  0.7 & Flora     & Female & 21\\\\\n",
       "\t Regular &  TRUE & 7dc01f10bf20671ecfccdac23812b1b415acd42c2147cb0af4d48fcce2420f3e &  0.1 & Kylie     & Male   & 21\\\\\n",
       "\t Amateur &  TRUE & f58aad5996a435f16b0284a3b267f973f9af99e7a89bee0430055a44fa92f977 &  0.0 & Adrian    & Female & 17\\\\\n",
       "\\end{tabular}\n"
      ],
      "text/markdown": [
       "\n",
       "A tibble: 6 × 7\n",
       "\n",
       "| experience &lt;chr&gt; | subscribe &lt;lgl&gt; | hashedEmail &lt;chr&gt; | played_hours &lt;dbl&gt; | name &lt;chr&gt; | gender &lt;chr&gt; | Age &lt;dbl&gt; |\n",
       "|---|---|---|---|---|---|---|\n",
       "| Pro     |  TRUE | f6daba428a5e19a3d47574858c13550499be23603422e6a0ee9728f8b53e192d | 30.3 | Morgan    | Male   |  9 |\n",
       "| Veteran |  TRUE | f3c813577c458ba0dfef80996f8f32c93b6e8af1fa939732842f2312358a88e9 |  3.8 | Christian | Male   | 17 |\n",
       "| Veteran | FALSE | b674dd7ee0d24096d1c019615ce4d12b20fcbff12d79d3c5a9d2118eb7ccbb28 |  0.0 | Blake     | Male   | 17 |\n",
       "| Amateur |  TRUE | 23fe711e0e3b77f1da7aa221ab1192afe21648d47d2b4fa7a5a659ff443a0eb5 |  0.7 | Flora     | Female | 21 |\n",
       "| Regular |  TRUE | 7dc01f10bf20671ecfccdac23812b1b415acd42c2147cb0af4d48fcce2420f3e |  0.1 | Kylie     | Male   | 21 |\n",
       "| Amateur |  TRUE | f58aad5996a435f16b0284a3b267f973f9af99e7a89bee0430055a44fa92f977 |  0.0 | Adrian    | Female | 17 |\n",
       "\n"
      ],
      "text/plain": [
       "  experience subscribe\n",
       "1 Pro         TRUE    \n",
       "2 Veteran     TRUE    \n",
       "3 Veteran    FALSE    \n",
       "4 Amateur     TRUE    \n",
       "5 Regular     TRUE    \n",
       "6 Amateur     TRUE    \n",
       "  hashedEmail                                                      played_hours\n",
       "1 f6daba428a5e19a3d47574858c13550499be23603422e6a0ee9728f8b53e192d 30.3        \n",
       "2 f3c813577c458ba0dfef80996f8f32c93b6e8af1fa939732842f2312358a88e9  3.8        \n",
       "3 b674dd7ee0d24096d1c019615ce4d12b20fcbff12d79d3c5a9d2118eb7ccbb28  0.0        \n",
       "4 23fe711e0e3b77f1da7aa221ab1192afe21648d47d2b4fa7a5a659ff443a0eb5  0.7        \n",
       "5 7dc01f10bf20671ecfccdac23812b1b415acd42c2147cb0af4d48fcce2420f3e  0.1        \n",
       "6 f58aad5996a435f16b0284a3b267f973f9af99e7a89bee0430055a44fa92f977  0.0        \n",
       "  name      gender Age\n",
       "1 Morgan    Male    9 \n",
       "2 Christian Male   17 \n",
       "3 Blake     Male   17 \n",
       "4 Flora     Female 21 \n",
       "5 Kylie     Male   21 \n",
       "6 Adrian    Female 17 "
      ]
     },
     "metadata": {},
     "output_type": "display_data"
    }
   ],
   "source": [
    "head(players_data)"
   ]
  },
  {
   "cell_type": "markdown",
   "id": "7cab5dce-707e-465c-90d4-198f7642393c",
   "metadata": {},
   "source": [
    "<br>"
   ]
  },
  {
   "cell_type": "markdown",
   "id": "a1ddc3b1-943b-41cf-b015-234215e0b958",
   "metadata": {},
   "source": [
    "Below we find some summary statistics and distribution information for variables inside the dataset:"
   ]
  },
  {
   "cell_type": "code",
   "execution_count": 24,
   "id": "b519386b-b672-4c39-8bd3-a2750884d06d",
   "metadata": {},
   "outputs": [
    {
     "data": {
      "text/plain": [
       "  experience        subscribe       hashedEmail         played_hours    \n",
       " Length:196         Mode :logical   Length:196         Min.   :  0.000  \n",
       " Class :character   FALSE:52        Class :character   1st Qu.:  0.000  \n",
       " Mode  :character   TRUE :144       Mode  :character   Median :  0.100  \n",
       "                                                       Mean   :  5.846  \n",
       "                                                       3rd Qu.:  0.600  \n",
       "                                                       Max.   :223.100  \n",
       "                                                                        \n",
       "     name              gender               Age       \n",
       " Length:196         Length:196         Min.   : 8.00  \n",
       " Class :character   Class :character   1st Qu.:17.00  \n",
       " Mode  :character   Mode  :character   Median :19.00  \n",
       "                                       Mean   :20.52  \n",
       "                                       3rd Qu.:22.00  \n",
       "                                       Max.   :50.00  \n",
       "                                       NA's   :2      "
      ]
     },
     "metadata": {},
     "output_type": "display_data"
    }
   ],
   "source": [
    "summary(players_data)"
   ]
  },
  {
   "cell_type": "code",
   "execution_count": 31,
   "id": "2dbbed70-bfa6-4288-b46f-8ffd944d7339",
   "metadata": {},
   "outputs": [
    {
     "name": "stdout",
     "output_type": "stream",
     "text": [
      "[1] \"Player experience summary\"\n"
     ]
    },
    {
     "data": {
      "text/plain": [
       "\n",
       " Amateur Beginner      Pro  Regular  Veteran \n",
       "      63       35       14       36       48 "
      ]
     },
     "metadata": {},
     "output_type": "display_data"
    }
   ],
   "source": [
    "print(\"Player experience summary\")\n",
    "table(players_data$experience)"
   ]
  },
  {
   "cell_type": "code",
   "execution_count": 32,
   "id": "205c9b08-6176-49f9-8d39-9ee672fb82d4",
   "metadata": {},
   "outputs": [
    {
     "name": "stdout",
     "output_type": "stream",
     "text": [
      "[1] \"Player subscription summary\"\n"
     ]
    },
    {
     "data": {
      "text/plain": [
       "\n",
       "FALSE  TRUE \n",
       "   52   144 "
      ]
     },
     "metadata": {},
     "output_type": "display_data"
    }
   ],
   "source": [
    "print(\"Player subscription summary\")\n",
    "table(players_data$subscribe)"
   ]
  },
  {
   "cell_type": "code",
   "execution_count": 33,
   "id": "971dc5f6-301c-472a-a5ee-238a64fb4138",
   "metadata": {},
   "outputs": [
    {
     "name": "stdout",
     "output_type": "stream",
     "text": [
      "[1] \"Player gender summary\"\n"
     ]
    },
    {
     "data": {
      "text/plain": [
       "\n",
       "          Agender            Female              Male        Non-binary \n",
       "                2                37               124                15 \n",
       "            Other Prefer not to say      Two-Spirited \n",
       "                1                11                 6 "
      ]
     },
     "metadata": {},
     "output_type": "display_data"
    }
   ],
   "source": [
    "print(\"Player gender summary\")\n",
    "table(players_data$gender)"
   ]
  },
  {
   "cell_type": "code",
   "execution_count": 10,
   "id": "cbc6d34f-967c-472a-a19e-63aaed822b54",
   "metadata": {},
   "outputs": [
    {
     "data": {
      "text/html": [
       "<table class=\"dataframe\">\n",
       "<caption>A tibble: 2 × 7</caption>\n",
       "<thead>\n",
       "\t<tr><th scope=col>experience</th><th scope=col>subscribe</th><th scope=col>hashedEmail</th><th scope=col>played_hours</th><th scope=col>name</th><th scope=col>gender</th><th scope=col>Age</th></tr>\n",
       "\t<tr><th scope=col>&lt;chr&gt;</th><th scope=col>&lt;lgl&gt;</th><th scope=col>&lt;chr&gt;</th><th scope=col>&lt;dbl&gt;</th><th scope=col>&lt;chr&gt;</th><th scope=col>&lt;chr&gt;</th><th scope=col>&lt;dbl&gt;</th></tr>\n",
       "</thead>\n",
       "<tbody>\n",
       "\t<tr><td>Regular</td><td>TRUE</td><td>7d71c49cbbce8dcf0276b2bfecfa2d16f22cb31a4024556d6085884298f2ee8d</td><td>0.1</td><td>Devin</td><td>Two-Spirited</td><td>NA</td></tr>\n",
       "\t<tr><td>Pro    </td><td>TRUE</td><td>d9473710057f7d42f36570f0be83817a4eea614029ff90cf50d8889cdd729d11</td><td>0.2</td><td>Ahmed</td><td>Other       </td><td>NA</td></tr>\n",
       "</tbody>\n",
       "</table>\n"
      ],
      "text/latex": [
       "A tibble: 2 × 7\n",
       "\\begin{tabular}{lllllll}\n",
       " experience & subscribe & hashedEmail & played\\_hours & name & gender & Age\\\\\n",
       " <chr> & <lgl> & <chr> & <dbl> & <chr> & <chr> & <dbl>\\\\\n",
       "\\hline\n",
       "\t Regular & TRUE & 7d71c49cbbce8dcf0276b2bfecfa2d16f22cb31a4024556d6085884298f2ee8d & 0.1 & Devin & Two-Spirited & NA\\\\\n",
       "\t Pro     & TRUE & d9473710057f7d42f36570f0be83817a4eea614029ff90cf50d8889cdd729d11 & 0.2 & Ahmed & Other        & NA\\\\\n",
       "\\end{tabular}\n"
      ],
      "text/markdown": [
       "\n",
       "A tibble: 2 × 7\n",
       "\n",
       "| experience &lt;chr&gt; | subscribe &lt;lgl&gt; | hashedEmail &lt;chr&gt; | played_hours &lt;dbl&gt; | name &lt;chr&gt; | gender &lt;chr&gt; | Age &lt;dbl&gt; |\n",
       "|---|---|---|---|---|---|---|\n",
       "| Regular | TRUE | 7d71c49cbbce8dcf0276b2bfecfa2d16f22cb31a4024556d6085884298f2ee8d | 0.1 | Devin | Two-Spirited | NA |\n",
       "| Pro     | TRUE | d9473710057f7d42f36570f0be83817a4eea614029ff90cf50d8889cdd729d11 | 0.2 | Ahmed | Other        | NA |\n",
       "\n"
      ],
      "text/plain": [
       "  experience subscribe\n",
       "1 Regular    TRUE     \n",
       "2 Pro        TRUE     \n",
       "  hashedEmail                                                      played_hours\n",
       "1 7d71c49cbbce8dcf0276b2bfecfa2d16f22cb31a4024556d6085884298f2ee8d 0.1         \n",
       "2 d9473710057f7d42f36570f0be83817a4eea614029ff90cf50d8889cdd729d11 0.2         \n",
       "  name  gender       Age\n",
       "1 Devin Two-Spirited NA \n",
       "2 Ahmed Other        NA "
      ]
     },
     "metadata": {},
     "output_type": "display_data"
    }
   ],
   "source": [
    "# finding rows with missing values\n",
    "players_data[!complete.cases(players_data), ]"
   ]
  },
  {
   "cell_type": "markdown",
   "id": "5a210bd2-27f5-497b-ab44-0ee5417ac860",
   "metadata": {},
   "source": [
    "### Number of Observations:\n",
    "196\n",
    "\n",
    "### Number of Variables:\n",
    "7\n",
    "\n",
    "### Summary of numerical features: \n",
    "**Type**: played_hours and Age has type <dbl>, which is a numeric value that can have decimal points. <br>\n",
    "**Description**: played hours is the number of hours a player has played the game, age is the age of the player.\n",
    "| Column       | Min      | 1st Qu.  | Median  | Mean    | 3rd Qu.  | Max     | NA Count |\n",
    "|-------------|---------|----------|---------|--------|----------|---------|----------|\n",
    "| played_hours | 0.000  | 0.000    | 0.100   | 5.846  | 0.600    | 223.100 | 0        |\n",
    "| Age         | 8.00    | 17.00    | 19.00   | 20.52  | 22.00    | 50.00   | 2        |\n",
    "\n",
    "\n",
    "### Summary of categorical features: \n",
    "**Experience Summary** <br>\n",
    "**Type**: \\<chr>, a string<br>\n",
    "**Description**: the level of previous experience the player has.\n",
    "| Category  | Count |\n",
    "|-----------|-------|\n",
    "| Amateur   | 63    |\n",
    "| Beginner  | 35    |\n",
    "| Pro       | 14    |\n",
    "| Regular   | 36    |\n",
    "| Veteran   | 48    |\n",
    "\n",
    "**Subscription Summary**  <br>\n",
    "**Type**: \\<lgl>, true or false boolean value<br>\n",
    "**Description**: true if the player has subscribed to a game-related newsletter, false if not/\n",
    "| Subscribed | Count |\n",
    "|------------|-------|\n",
    "| FALSE      | 52    |\n",
    "| TRUE       | 144   |\n",
    "\n",
    "**Gender Summary**  <br>\n",
    "**Type**:  \\<chr>, a string<br>\n",
    "**Description**: the player's gender.\n",
    "| Gender               | Count |\n",
    "|----------------------|-------|\n",
    "| Agender             | 2     |\n",
    "| Female              | 37    |\n",
    "| Male                | 124   |\n",
    "| Non-binary          | 15    |\n",
    "| Other               | 1     |\n",
    "| Prefer not to say   | 11    |\n",
    "| Two-Spirited        | 6     |\n",
    "\n",
    "\n",
    "### Issues with the data:\n",
    "We have two observations that are missing the \"age\" feature. We can impute this by using the mean (rounded to an integer) or median of all other ages in the dataset. Another potential issue is that the dataset is very small (196 records), so it may be less representative of the entire population compared to if we had a larget dataset.\n",
    "\n",
    "### How the data is collected:\n",
    "When users decide to sign up, they are asked to fill out an anonymized form where they choose a name from a list of availible names and also their experience, gender, age, and email. I'm guessing the played_hours is probably just collected by the researchers logging connections to the server, or some similar method."
   ]
  },
  {
   "cell_type": "markdown",
   "id": "dbcaae91-201b-45a6-92bd-bf632d7bc365",
   "metadata": {},
   "source": [
    "<br><br>"
   ]
  },
  {
   "cell_type": "markdown",
   "id": "b8ddb18b-13eb-4d7a-95a5-1638a78e1ee7",
   "metadata": {},
   "source": [
    "<h2>2. Questions</h2>"
   ]
  },
  {
   "cell_type": "code",
   "execution_count": null,
   "id": "e85a003d-5b72-4217-862c-b04f29aba7bd",
   "metadata": {},
   "outputs": [],
   "source": []
  }
 ],
 "metadata": {
  "kernelspec": {
   "display_name": "R",
   "language": "R",
   "name": "ir"
  },
  "language_info": {
   "codemirror_mode": "r",
   "file_extension": ".r",
   "mimetype": "text/x-r-source",
   "name": "R",
   "pygments_lexer": "r",
   "version": "4.3.3"
  }
 },
 "nbformat": 4,
 "nbformat_minor": 5
}
